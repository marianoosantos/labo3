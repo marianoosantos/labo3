{
 "cells": [
  {
   "cell_type": "code",
   "execution_count": null,
   "id": "501acca6",
   "metadata": {},
   "outputs": [],
   "source": [
    "base = pd.read_csv(os.path.join(ruta_base, 'predicciones_dec2019_tn_lead_2m.csv'))\n"
   ]
  }
 ],
 "metadata": {
  "language_info": {
   "name": "python"
  }
 },
 "nbformat": 4,
 "nbformat_minor": 5
}
